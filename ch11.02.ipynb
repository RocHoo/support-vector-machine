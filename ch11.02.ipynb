{
 "cells": [
  {
   "cell_type": "code",
   "execution_count": 1,
   "metadata": {},
   "outputs": [],
   "source": [
    "%matplotlib inline\n",
    "import matplotlib.pyplot as plt\n",
    "import numpy as np"
   ]
  },
  {
   "cell_type": "code",
   "execution_count": 2,
   "metadata": {},
   "outputs": [
    {
     "name": "stdout",
     "output_type": "stream",
     "text": [
      "loading documents ...\n",
      "summary: 3949 documents in 4 categories.\n",
      "done in 52.1021568775177 seconds\n"
     ]
    }
   ],
   "source": [
    "from time import time\n",
    "from sklearn.datasets import load_files\n",
    "\n",
    "print(\"loading documents ...\")\n",
    "t = time()\n",
    "docs = load_files('datasets/clustering/data')\n",
    "print(\"summary: {0} documents in {1} categories.\".format(\n",
    "    len(docs.data), len(docs.target_names)))\n",
    "print(\"done in {0} seconds\".format(time() - t))"
   ]
  },
  {
   "cell_type": "code",
   "execution_count": 3,
   "metadata": {},
   "outputs": [
    {
     "name": "stdout",
     "output_type": "stream",
     "text": [
      "vectorizing documents ...\n",
      "n_samples: 3949, n_features: 20000\n",
      "number of non-zero features in sample [datasets/clustering/data\\sci.electronics\\11902-54322]: 56\n",
      "done in 1.1838319301605225 seconds\n"
     ]
    }
   ],
   "source": [
    "from sklearn.feature_extraction.text import TfidfVectorizer\n",
    "\n",
    "max_features = 20000\n",
    "print(\"vectorizing documents ...\")\n",
    "t = time()\n",
    "vectorizer = TfidfVectorizer(max_df=0.4, \n",
    "                             min_df=2, \n",
    "                             max_features=max_features, \n",
    "                             encoding='latin-1')\n",
    "X = vectorizer.fit_transform((d for d in docs.data))\n",
    "print(\"n_samples: %d, n_features: %d\" % X.shape)\n",
    "print(\"number of non-zero features in sample [{0}]: {1}\".format(\n",
    "    docs.filenames[0], X[0].getnnz()))\n",
    "print(\"done in {0} seconds\".format(time() - t))"
   ]
  },
  {
   "cell_type": "code",
   "execution_count": 4,
   "metadata": {
    "scrolled": false
   },
   "outputs": [
    {
     "name": "stdout",
     "output_type": "stream",
     "text": [
      "clustering documents ...\n",
      "Initialization complete\n",
      "Iteration  0, inertia 7491.102\n",
      "Iteration  1, inertia 3837.151\n",
      "Iteration  2, inertia 3823.400\n",
      "Iteration  3, inertia 3819.125\n",
      "Iteration  4, inertia 3817.093\n",
      "Iteration  5, inertia 3816.460\n",
      "Iteration  6, inertia 3816.208\n",
      "Iteration  7, inertia 3816.130\n",
      "Iteration  8, inertia 3816.087\n",
      "Iteration  9, inertia 3816.048\n",
      "Iteration 10, inertia 3815.994\n",
      "Iteration 11, inertia 3815.986\n",
      "Iteration 12, inertia 3815.980\n",
      "Converged at iteration 12: center shift 0.000000e+00 within tolerance 4.896692e-07\n",
      "Initialization complete\n",
      "Iteration  0, inertia 7533.248\n",
      "Iteration  1, inertia 3847.026\n",
      "Iteration  2, inertia 3831.989\n",
      "Iteration  3, inertia 3827.035\n",
      "Iteration  4, inertia 3825.092\n",
      "Iteration  5, inertia 3823.671\n",
      "Iteration  6, inertia 3823.101\n",
      "Iteration  7, inertia 3822.729\n",
      "Iteration  8, inertia 3822.207\n",
      "Iteration  9, inertia 3821.824\n",
      "Iteration 10, inertia 3821.715\n",
      "Iteration 11, inertia 3821.674\n",
      "Iteration 12, inertia 3821.624\n",
      "Iteration 13, inertia 3821.578\n",
      "Iteration 14, inertia 3821.530\n",
      "Iteration 15, inertia 3821.479\n",
      "Iteration 16, inertia 3821.431\n",
      "Iteration 17, inertia 3821.405\n",
      "Iteration 18, inertia 3821.385\n",
      "Iteration 19, inertia 3821.367\n",
      "Iteration 20, inertia 3821.334\n",
      "Iteration 21, inertia 3821.297\n",
      "Iteration 22, inertia 3821.240\n",
      "Iteration 23, inertia 3821.175\n",
      "Iteration 24, inertia 3821.107\n",
      "Iteration 25, inertia 3821.016\n",
      "Iteration 26, inertia 3820.929\n",
      "Iteration 27, inertia 3820.855\n",
      "Iteration 28, inertia 3820.802\n",
      "Iteration 29, inertia 3820.708\n",
      "Iteration 30, inertia 3820.591\n",
      "Iteration 31, inertia 3820.375\n",
      "Iteration 32, inertia 3819.996\n",
      "Iteration 33, inertia 3819.558\n",
      "Iteration 34, inertia 3819.091\n",
      "Iteration 35, inertia 3818.657\n",
      "Iteration 36, inertia 3818.370\n",
      "Iteration 37, inertia 3818.141\n",
      "Iteration 38, inertia 3818.017\n",
      "Iteration 39, inertia 3817.960\n",
      "Iteration 40, inertia 3817.924\n",
      "Iteration 41, inertia 3817.905\n",
      "Iteration 42, inertia 3817.877\n",
      "Iteration 43, inertia 3817.846\n",
      "Iteration 44, inertia 3817.823\n",
      "Iteration 45, inertia 3817.803\n",
      "Iteration 46, inertia 3817.794\n",
      "Iteration 47, inertia 3817.789\n",
      "Iteration 48, inertia 3817.785\n",
      "Iteration 49, inertia 3817.777\n",
      "Iteration 50, inertia 3817.770\n",
      "Iteration 51, inertia 3817.766\n",
      "Iteration 52, inertia 3817.761\n",
      "Iteration 53, inertia 3817.752\n",
      "Iteration 54, inertia 3817.745\n",
      "Iteration 55, inertia 3817.738\n",
      "Iteration 56, inertia 3817.734\n",
      "Iteration 57, inertia 3817.732\n",
      "Iteration 58, inertia 3817.729\n",
      "Iteration 59, inertia 3817.719\n",
      "Iteration 60, inertia 3817.716\n",
      "Iteration 61, inertia 3817.709\n",
      "Iteration 62, inertia 3817.702\n",
      "Iteration 63, inertia 3817.691\n",
      "Iteration 64, inertia 3817.676\n",
      "Iteration 65, inertia 3817.669\n",
      "Iteration 66, inertia 3817.661\n",
      "Iteration 67, inertia 3817.646\n",
      "Iteration 68, inertia 3817.640\n",
      "Converged at iteration 68: center shift 0.000000e+00 within tolerance 4.896692e-07\n",
      "Initialization complete\n",
      "Iteration  0, inertia 7581.792\n",
      "Iteration  1, inertia 3847.364\n",
      "Iteration  2, inertia 3837.335\n",
      "Iteration  3, inertia 3830.566\n",
      "Iteration  4, inertia 3824.171\n",
      "Iteration  5, inertia 3820.977\n",
      "Iteration  6, inertia 3819.704\n",
      "Iteration  7, inertia 3819.102\n",
      "Iteration  8, inertia 3818.700\n",
      "Iteration  9, inertia 3818.478\n",
      "Iteration 10, inertia 3818.351\n",
      "Iteration 11, inertia 3818.254\n",
      "Iteration 12, inertia 3818.145\n",
      "Iteration 13, inertia 3818.076\n",
      "Iteration 14, inertia 3818.040\n",
      "Iteration 15, inertia 3818.002\n",
      "Iteration 16, inertia 3817.957\n",
      "Iteration 17, inertia 3817.923\n",
      "Iteration 18, inertia 3817.881\n",
      "Iteration 19, inertia 3817.844\n",
      "Iteration 20, inertia 3817.819\n",
      "Iteration 21, inertia 3817.794\n",
      "Iteration 22, inertia 3817.783\n",
      "Iteration 23, inertia 3817.781\n",
      "Iteration 24, inertia 3817.775\n",
      "Iteration 25, inertia 3817.773\n",
      "Iteration 26, inertia 3817.771\n",
      "Converged at iteration 26: center shift 0.000000e+00 within tolerance 4.896692e-07\n",
      "kmean: k=4, cost=3815\n",
      "done in 33.443578004837036 seconds\n"
     ]
    }
   ],
   "source": [
    "from sklearn.cluster import KMeans\n",
    "\n",
    "print(\"clustering documents ...\")\n",
    "t = time()\n",
    "n_clusters = 4\n",
    "kmean = KMeans(n_clusters=n_clusters, \n",
    "               max_iter=100,\n",
    "               tol=0.01,\n",
    "               verbose=1,\n",
    "               n_init=3)\n",
    "kmean.fit(X);\n",
    "print(\"kmean: k={}, cost={}\".format(n_clusters, int(kmean.inertia_)))\n",
    "print(\"done in {0} seconds\".format(time() - t))"
   ]
  },
  {
   "cell_type": "code",
   "execution_count": 5,
   "metadata": {},
   "outputs": [
    {
     "data": {
      "text/plain": [
       "3949"
      ]
     },
     "execution_count": 5,
     "metadata": {},
     "output_type": "execute_result"
    }
   ],
   "source": [
    "len(kmean.labels_)"
   ]
  },
  {
   "cell_type": "code",
   "execution_count": 6,
   "metadata": {},
   "outputs": [
    {
     "data": {
      "text/plain": [
       "array([2, 2, 2, 3, 0, 3, 3, 2, 3, 3])"
      ]
     },
     "execution_count": 6,
     "metadata": {},
     "output_type": "execute_result"
    }
   ],
   "source": [
    "kmean.labels_[1000:1010]"
   ]
  },
  {
   "cell_type": "code",
   "execution_count": 7,
   "metadata": {},
   "outputs": [
    {
     "data": {
      "text/plain": [
       "array(['datasets/clustering/data\\\\sci.crypt\\\\10888-15289',\n",
       "       'datasets/clustering/data\\\\sci.crypt\\\\11490-15880',\n",
       "       'datasets/clustering/data\\\\sci.crypt\\\\11270-15346',\n",
       "       'datasets/clustering/data\\\\sci.electronics\\\\12383-53525',\n",
       "       'datasets/clustering/data\\\\sci.space\\\\13826-60862',\n",
       "       'datasets/clustering/data\\\\sci.electronics\\\\11631-54106',\n",
       "       'datasets/clustering/data\\\\sci.space\\\\14235-61437',\n",
       "       'datasets/clustering/data\\\\sci.crypt\\\\11508-15928',\n",
       "       'datasets/clustering/data\\\\sci.space\\\\13593-60824',\n",
       "       'datasets/clustering/data\\\\sci.electronics\\\\12304-52801'],\n",
       "      dtype='<U52')"
      ]
     },
     "execution_count": 7,
     "metadata": {},
     "output_type": "execute_result"
    }
   ],
   "source": [
    "docs.filenames[1000:1010]"
   ]
  },
  {
   "cell_type": "code",
   "execution_count": 8,
   "metadata": {},
   "outputs": [
    {
     "name": "stdout",
     "output_type": "stream",
     "text": [
      "Top terms per cluster:\n",
      "Cluster 0: henry toronto zoo spencer hst zoology mission utzoo orbit space\n",
      "Cluster 1: msg she my pitt gordon geb banks her has he\n",
      "Cluster 2: key clipper encryption chip government will keys escrow we nsa\n",
      "Cluster 3: space by my any will like know do some we\n"
     ]
    }
   ],
   "source": [
    "from __future__ import print_function\n",
    "\n",
    "print(\"Top terms per cluster:\")\n",
    "\n",
    "order_centroids = kmean.cluster_centers_.argsort()[:, ::-1]\n",
    "\n",
    "terms = vectorizer.get_feature_names()\n",
    "for i in range(n_clusters):\n",
    "    print(\"Cluster %d:\" % i, end='')\n",
    "    for ind in order_centroids[i, :10]:\n",
    "        print(' %s' % terms[ind], end='')\n",
    "    print()"
   ]
  },
  {
   "cell_type": "code",
   "execution_count": 12,
   "metadata": {},
   "outputs": [
    {
     "name": "stdout",
     "output_type": "stream",
     "text": [
      "Homogeneity score for same structure sample: 1.000\n",
      "Homogeneity score for each cluster come from only one class: 1.000\n",
      "Homogeneity score for each cluster come from two class: 0.000\n",
      "Homogeneity score for random sample: 0.315\n"
     ]
    }
   ],
   "source": [
    "from sklearn import metrics\n",
    "\n",
    "label_true = [1, 1, 2, 2]\n",
    "label_pred = [2, 2, 1, 1]\n",
    "print(\"Homogeneity score for same structure sample: %.3f\"\n",
    "      % metrics.homogeneity_score(label_true, label_pred))\n",
    "label_true = [1, 1, 2, 2]\n",
    "label_pred = [0, 1, 2, 3]\n",
    "print(\"Homogeneity score for each cluster come from only one class: %.3f\"\n",
    "      % metrics.homogeneity_score(label_true, label_pred))\n",
    "label_true = [1, 1, 2, 2]\n",
    "label_pred = [1, 2, 1, 2]\n",
    "print(\"Homogeneity score for each cluster come from two class: %.3f\"\n",
    "      % metrics.homogeneity_score(label_true, label_pred))\n",
    "label_true = np.random.randint(1, 4, 6)\n",
    "label_pred = np.random.randint(1, 4, 6)\n",
    "print(\"Homogeneity score for random sample: %.3f\"\n",
    "      % metrics.homogeneity_score(label_true, label_pred))"
   ]
  },
  {
   "cell_type": "code",
   "execution_count": 13,
   "metadata": {},
   "outputs": [
    {
     "name": "stdout",
     "output_type": "stream",
     "text": [
      "Completeness score for same structure sample: 1.000\n",
      "Completeness score for each class assign to only one cluster: 1.000\n",
      "Completeness score for each class assign to two class: 0.000\n",
      "Completeness score for random sample: 0.290\n"
     ]
    }
   ],
   "source": [
    "from sklearn import metrics\n",
    "\n",
    "label_true = [1, 1, 2, 2]\n",
    "label_pred = [2, 2, 1, 1]\n",
    "print(\"Completeness score for same structure sample: %.3f\"\n",
    "      % metrics.completeness_score(label_true, label_pred))\n",
    "label_true = [0, 1, 2, 3]\n",
    "label_pred = [1, 1, 2, 2]\n",
    "print(\"Completeness score for each class assign to only one cluster: %.3f\"\n",
    "      % metrics.completeness_score(label_true, label_pred))\n",
    "label_true = [1, 1, 2, 2]\n",
    "label_pred = [1, 2, 1, 2]\n",
    "print(\"Completeness score for each class assign to two class: %.3f\"\n",
    "      % metrics.completeness_score(label_true, label_pred))\n",
    "label_true = np.random.randint(1, 4, 6)\n",
    "label_pred = np.random.randint(1, 4, 6)\n",
    "print(\"Completeness score for random sample: %.3f\"\n",
    "      % metrics.completeness_score(label_true, label_pred))"
   ]
  },
  {
   "cell_type": "code",
   "execution_count": 14,
   "metadata": {},
   "outputs": [
    {
     "name": "stdout",
     "output_type": "stream",
     "text": [
      "V-measure score for same structure sample: 1.000\n",
      "V-measure score for each class assign to only one cluster: 0.667\n",
      "V-measure score for each class assign to only one cluster: 0.667\n",
      "V-measure score for each class assign to two class: 0.000\n"
     ]
    }
   ],
   "source": [
    "from sklearn import metrics\n",
    "\n",
    "label_true = [1, 1, 2, 2]\n",
    "label_pred = [2, 2, 1, 1]\n",
    "print(\"V-measure score for same structure sample: %.3f\"\n",
    "      % metrics.v_measure_score(label_true, label_pred))\n",
    "label_true = [0, 1, 2, 3]\n",
    "label_pred = [1, 1, 2, 2]\n",
    "print(\"V-measure score for each class assign to only one cluster: %.3f\"\n",
    "      % metrics.v_measure_score(label_true, label_pred))\n",
    "print(\"V-measure score for each class assign to only one cluster: %.3f\"\n",
    "      % metrics.v_measure_score(label_pred, label_true))\n",
    "label_true = [1, 1, 2, 2]\n",
    "label_pred = [1, 2, 1, 2]\n",
    "print(\"V-measure score for each class assign to two class: %.3f\"\n",
    "      % metrics.v_measure_score(label_true, label_pred))"
   ]
  },
  {
   "cell_type": "code",
   "execution_count": 15,
   "metadata": {},
   "outputs": [
    {
     "name": "stdout",
     "output_type": "stream",
     "text": [
      "Homogeneity: 0.453\n",
      "Completeness: 0.532\n",
      "V-measure: 0.489\n",
      "Adjusted Rand-Index: 0.295\n",
      "Silhouette Coefficient: 0.004\n"
     ]
    }
   ],
   "source": [
    "from sklearn import metrics\n",
    "\n",
    "labels = docs.target\n",
    "print(\"Homogeneity: %0.3f\" % metrics.homogeneity_score(labels, kmean.labels_))\n",
    "print(\"Completeness: %0.3f\" % metrics.completeness_score(labels, kmean.labels_))\n",
    "print(\"V-measure: %0.3f\" % metrics.v_measure_score(labels, kmean.labels_))\n",
    "print(\"Adjusted Rand-Index: %.3f\"\n",
    "      % metrics.adjusted_rand_score(labels, kmean.labels_))\n",
    "print(\"Silhouette Coefficient: %0.3f\"\n",
    "      % metrics.silhouette_score(X, kmean.labels_, sample_size=1000))"
   ]
  },
  {
   "cell_type": "code",
   "execution_count": null,
   "metadata": {},
   "outputs": [],
   "source": []
  }
 ],
 "metadata": {
  "kernelspec": {
   "display_name": "Python 3",
   "language": "python",
   "name": "python3"
  },
  "language_info": {
   "codemirror_mode": {
    "name": "ipython",
    "version": 3
   },
   "file_extension": ".py",
   "mimetype": "text/x-python",
   "name": "python",
   "nbconvert_exporter": "python",
   "pygments_lexer": "ipython3",
   "version": "3.7.0"
  }
 },
 "nbformat": 4,
 "nbformat_minor": 2
}
